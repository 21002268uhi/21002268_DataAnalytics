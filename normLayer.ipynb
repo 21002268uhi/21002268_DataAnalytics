{
  "nbformat": 4,
  "nbformat_minor": 0,
  "metadata": {
    "colab": {
      "provenance": [],
      "authorship_tag": "ABX9TyOfEI7DK7Gz6iuWtzMU9TSD",
      "include_colab_link": true
    },
    "kernelspec": {
      "name": "python3",
      "display_name": "Python 3"
    },
    "language_info": {
      "name": "python"
    }
  },
  "cells": [
    {
      "cell_type": "markdown",
      "metadata": {
        "id": "view-in-github",
        "colab_type": "text"
      },
      "source": [
        "<a href=\"https://colab.research.google.com/github/21002268uhi/21002268_DataAnalytics/blob/main/normLayer.ipynb\" target=\"_parent\"><img src=\"https://colab.research.google.com/assets/colab-badge.svg\" alt=\"Open In Colab\"/></a>"
      ]
    },
    {
      "cell_type": "markdown",
      "source": [
        "# Attempts a normalisation layer\n",
        "\n"
      ],
      "metadata": {
        "id": "vivQasrjmbC-"
      }
    },
    {
      "cell_type": "code",
      "source": [
        "#@title Imports modules\n",
        "import pandas as pd\n",
        "import tensorflow as tf\n",
        "from tensorflow import keras\n",
        "from keras import layers, models, metrics, optimizers\n",
        "import numpy as np\n",
        "from matplotlib import pyplot as plt\n",
        "\n",
        "\n",
        "# adjust granularity of reporting\n",
        "pd.options.display.max_rows = 100\n",
        "pd.options.display.float_format = \"{:.1f}\".format"
      ],
      "metadata": {
        "id": "3kOPYb8WnHxb"
      },
      "execution_count": 1,
      "outputs": []
    },
    {
      "cell_type": "code",
      "source": [
        "#@title Gets the data ready\n",
        "df = pd.read_csv('https://raw.githubusercontent.com/21002268uhi/21002268_DataAnalytics/main/ohc_no_outliers.csv', index_col = 0, )\n",
        "shuffled_df = df.reindex(np.random.permutation(df.index))\n",
        "\n",
        "mask = np.random.rand(len(shuffled_df)) <= 0.8\n",
        "train_df = shuffled_df[mask]\n",
        "test_df = shuffled_df[~mask]\n"
      ],
      "metadata": {
        "id": "XucNH7xZmrH0"
      },
      "execution_count": 2,
      "outputs": []
    },
    {
      "cell_type": "markdown",
      "metadata": {
        "id": "b9ehCgIRjTxy"
      },
      "source": [
        "## Makes the layers"
      ]
    },
    {
      "cell_type": "code",
      "source": [
        "#@title Creates the feature layer\n",
        "# Creates an empty list that will eventually hold all created feature columns.\n",
        "feature_columns = []\n",
        "\n",
        "# Function to create the feature layer \n",
        "def make_feature_layer(*column):\n",
        "  for index in range(len(column)):\n",
        "    value = tf.feature_column.numeric_column(\"%s\" % (column[index]))\n",
        "    feature_columns.append(value)\n",
        "\n",
        "  # Converts the list of feature columns into a layer  \n",
        "  created_feature_layer = tf.keras.layers.DenseFeatures(feature_columns)\n",
        "  return (created_feature_layer)\n",
        "\n",
        "# Calls the function to make feature layer\n",
        "my_feature_layer = make_feature_layer(\"temp\", \"wdsp\", \"visib\", \"prcp\", \"fog\",\n",
        "                                      \"isMon\", \"isTue\", \"isWed\", \"isThur\", \"isFri\",\"isSat\", \"isSun\",\n",
        "                                      \"year_2012\", \"year_2013\", \"year_2014\", \"year_2015\", \"year_2016\",\n",
        "                                      \"year_2018\",\"year_2019\", \"year_2020\",\"year_2021\",\"year_2022\",\n",
        "                                      \"month_1\",\"month_2\",\"month_3\",\"month_4\",\"month_5\", \"month_6\",\n",
        "                                      \"month_7\", \"month_8\", \"month_9\", \"month_10\", \"month_11\",\"month_12\"\n",
        ")"
      ],
      "metadata": {
        "id": "jDbfQERxJFWi"
      },
      "execution_count": 3,
      "outputs": []
    },
    {
      "cell_type": "code",
      "source": [
        "#@title Creates the normalisation layer\n",
        "\n",
        "# calculate mean and sd\n",
        "collision_mean = train_df[\"num_collisions\"].mean()\n",
        "collision_var = np.var(train_df[\"num_collisions\"])\n",
        "\n",
        "# makes empty list\n",
        "normal_columns = []\n",
        "\n",
        "# Function to create the normalising layer \n",
        "def make_normalisation_layer(mean, var, *column):\n",
        "  for index in range(len(column)):\n",
        "    value = tf.feature_column.numeric_column(\"%s\" % (column[index]))\n",
        "    normal_columns.append(value)\n",
        "\n",
        "  # Converts the list of feature columns into a layer  \n",
        "  created_normal_layer = tf.keras.layers.Normalization(axis = None,\n",
        "                                                       mean = mean,\n",
        "                                                       variance = var)\n",
        "  return (created_normal_layer)\n",
        "\n",
        "# Calls the function to make normalisation layer\n",
        "my_normalisation_layer = make_normalisation_layer(collision_mean, collision_var,\n",
        "                                                  \"temp\", \"wdsp\", \"visib\", \"prcp\", \"fog\",\n",
        "                                      \"isMon\", \"isTue\", \"isWed\", \"isThur\", \"isFri\",\"isSat\", \"isSun\",\n",
        "                                      \"year_2012\", \"year_2013\", \"year_2014\", \"year_2015\", \"year_2016\",\n",
        "                                      \"year_2018\",\"year_2019\", \"year_2020\",\"year_2021\",\"year_2022\",\n",
        "                                      \"month_1\",\"month_2\",\"month_3\",\"month_4\",\"month_5\", \"month_6\",\n",
        "                                      \"month_7\", \"month_8\", \"month_9\", \"month_10\", \"month_11\",\"month_12\")"
      ],
      "metadata": {
        "id": "wRsijwnoVQIc"
      },
      "execution_count": 4,
      "outputs": []
    },
    {
      "cell_type": "code",
      "execution_count": 5,
      "metadata": {
        "id": "QF0BFRXTOeR3"
      },
      "outputs": [],
      "source": [
        "#@title Defines the plotting function.\n",
        "\n",
        "def plot_the_loss_curve(epochs, mse):\n",
        "  plt.figure()\n",
        "  plt.xlabel(\"Epoch\")\n",
        "  plt.ylabel(\"Mean Squared Error\")\n",
        "\n",
        "  plt.plot(epochs, mse, label=\"Loss\")\n",
        "  plt.legend()\n",
        "  plt.ylim([mse.min()*0.95, mse.max() * 1.03])\n",
        "  plt.show()  \n"
      ]
    },
    {
      "cell_type": "markdown",
      "metadata": {
        "id": "3014ezH3C7jT"
      },
      "source": [
        "## Defines a deep neural net model"
      ]
    },
    {
      "cell_type": "code",
      "execution_count": 6,
      "metadata": {
        "cellView": "both",
        "id": "pedD5GhlDC-y"
      },
      "outputs": [],
      "source": [
        "def create_model(my_learning_rate, my_feature_layer, my_normalisation_layer):\n",
        "  model = models.Sequential()\n",
        "\n",
        "  # Adds the layer containing the feature columns to the model\n",
        "  model.add(my_feature_layer)\n",
        "  \n",
        "  # Adds the normalisation layer to the model\n",
        "  model.add(my_normalisation_layer)\n",
        "\n",
        "  # Defines the first hidden layer with 20 nodes  \n",
        "  model.add(layers.Dense( units = 20, \n",
        "                          activation = 'relu', \n",
        "                          name = 'Hidden1'))\n",
        "  \n",
        "  # Defines the second hidden layer with 12 nodes\n",
        "  model.add(layers.Dense( units = 12, \n",
        "                          activation = 'relu', \n",
        "                          name = 'Hidden2'))\n",
        "  \n",
        "  # Defines the output layer\n",
        "  model.add(layers.Dense( units = 1,  \n",
        "                          name = 'Output'))                              \n",
        "  \n",
        "  # Compiles the model\n",
        "  model.compile(optimizer = optimizers.Adam(learning_rate = my_learning_rate),\n",
        "                loss = \"mean_squared_error\",\n",
        "                metrics = [metrics.MeanSquaredError()])\n",
        "  \n",
        "\n",
        "  return model"
      ]
    },
    {
      "cell_type": "markdown",
      "metadata": {
        "id": "anH4A_yCcZx2"
      },
      "source": [
        "## Defines a training function"
      ]
    },
    {
      "cell_type": "code",
      "execution_count": 7,
      "metadata": {
        "id": "4jv_lJYTcrEF"
      },
      "outputs": [],
      "source": [
        "def train_model(model, dataset, epochs, label_name,\n",
        "                batch_size = None):\n",
        "\n",
        "  # Splits the dataset into features and label\n",
        "  features = {name:np.array(value) for name, value in dataset.items()}\n",
        "  label = np.array(features.pop(label_name))\n",
        "  history = model.fit(x = features, y = label, batch_size = batch_size,\n",
        "                      epochs = epochs, shuffle = True\n",
        "                      ) \n",
        "\n",
        "  # Stores the list of epochs separately from the rest of history\n",
        "  epochs = history.epoch\n",
        "  \n",
        "  # Tracks the progression of training by getting MSE at each epoch. \n",
        "  hist = pd.DataFrame(history.history)\n",
        "  mse = hist[\"mean_squared_error\"]\n",
        "\n",
        "  return epochs, mse"
      ]
    },
    {
      "cell_type": "markdown",
      "metadata": {
        "id": "D-IXYVfvM4gD"
      },
      "source": [
        "## Calls the functions to build and train the DNN\n",
        "\n"
      ]
    },
    {
      "cell_type": "code",
      "execution_count": 8,
      "metadata": {
        "cellView": "both",
        "id": "nj3v5EKQFY8s",
        "colab": {
          "base_uri": "https://localhost:8080/",
          "height": 1000
        },
        "outputId": "cbd5894d-0054-4aa2-d8e3-6d826fc32f85"
      },
      "outputs": [
        {
          "output_type": "stream",
          "name": "stdout",
          "text": [
            "Epoch 1/50\n"
          ]
        },
        {
          "output_type": "stream",
          "name": "stderr",
          "text": [
            "WARNING:tensorflow:Layers in a Sequential model should only have a single input tensor. Received: inputs={'temp': <tf.Tensor 'IteratorGetNext:33' shape=(None,) dtype=float32>, 'visib': <tf.Tensor 'IteratorGetNext:36' shape=(None,) dtype=float32>, 'wdsp': <tf.Tensor 'IteratorGetNext:37' shape=(None,) dtype=float32>, 'prcp': <tf.Tensor 'IteratorGetNext:32' shape=(None,) dtype=float32>, 'fog': <tf.Tensor 'IteratorGetNext:9' shape=(None,) dtype=int64>, 'year_2012': <tf.Tensor 'IteratorGetNext:38' shape=(None,) dtype=int64>, 'year_2013': <tf.Tensor 'IteratorGetNext:39' shape=(None,) dtype=int64>, 'year_2014': <tf.Tensor 'IteratorGetNext:40' shape=(None,) dtype=int64>, 'year_2015': <tf.Tensor 'IteratorGetNext:41' shape=(None,) dtype=int64>, 'year_2016': <tf.Tensor 'IteratorGetNext:42' shape=(None,) dtype=int64>, 'year_2017': <tf.Tensor 'IteratorGetNext:43' shape=(None,) dtype=int64>, 'year_2018': <tf.Tensor 'IteratorGetNext:44' shape=(None,) dtype=int64>, 'year_2019': <tf.Tensor 'IteratorGetNext:45' shape=(None,) dtype=int64>, 'year_2020': <tf.Tensor 'IteratorGetNext:46' shape=(None,) dtype=int64>, 'year_2021': <tf.Tensor 'IteratorGetNext:47' shape=(None,) dtype=int64>, 'year_2022': <tf.Tensor 'IteratorGetNext:48' shape=(None,) dtype=int64>, 'no_v': <tf.Tensor 'IteratorGetNext:30' shape=(None,) dtype=int64>, 'one_v': <tf.Tensor 'IteratorGetNext:31' shape=(None,) dtype=int64>, 'two_v': <tf.Tensor 'IteratorGetNext:35' shape=(None,) dtype=int64>, 'three_v': <tf.Tensor 'IteratorGetNext:34' shape=(None,) dtype=int64>, 'four_v': <tf.Tensor 'IteratorGetNext:10' shape=(None,) dtype=int64>, 'five_v': <tf.Tensor 'IteratorGetNext:8' shape=(None,) dtype=int64>, 'day_of_week_1': <tf.Tensor 'IteratorGetNext:1' shape=(None,) dtype=int64>, 'day_of_week_2': <tf.Tensor 'IteratorGetNext:2' shape=(None,) dtype=int64>, 'day_of_week_3': <tf.Tensor 'IteratorGetNext:3' shape=(None,) dtype=int64>, 'day_of_week_4': <tf.Tensor 'IteratorGetNext:4' shape=(None,) dtype=int64>, 'day_of_week_5': <tf.Tensor 'IteratorGetNext:5' shape=(None,) dtype=int64>, 'day_of_week_6': <tf.Tensor 'IteratorGetNext:6' shape=(None,) dtype=int64>, 'day_of_week_7': <tf.Tensor 'IteratorGetNext:7' shape=(None,) dtype=int64>, 'isMon': <tf.Tensor 'IteratorGetNext:12' shape=(None,) dtype=int64>, 'isTue': <tf.Tensor 'IteratorGetNext:16' shape=(None,) dtype=int64>, 'isWed': <tf.Tensor 'IteratorGetNext:17' shape=(None,) dtype=int64>, 'isThur': <tf.Tensor 'IteratorGetNext:15' shape=(None,) dtype=int64>, 'isFri': <tf.Tensor 'IteratorGetNext:11' shape=(None,) dtype=int64>, 'isSat': <tf.Tensor 'IteratorGetNext:13' shape=(None,) dtype=int64>, 'isSun': <tf.Tensor 'IteratorGetNext:14' shape=(None,) dtype=int64>, 'month_1': <tf.Tensor 'IteratorGetNext:18' shape=(None,) dtype=int64>, 'month_2': <tf.Tensor 'IteratorGetNext:22' shape=(None,) dtype=int64>, 'month_3': <tf.Tensor 'IteratorGetNext:23' shape=(None,) dtype=int64>, 'month_4': <tf.Tensor 'IteratorGetNext:24' shape=(None,) dtype=int64>, 'month_5': <tf.Tensor 'IteratorGetNext:25' shape=(None,) dtype=int64>, 'month_6': <tf.Tensor 'IteratorGetNext:26' shape=(None,) dtype=int64>, 'month_7': <tf.Tensor 'IteratorGetNext:27' shape=(None,) dtype=int64>, 'month_8': <tf.Tensor 'IteratorGetNext:28' shape=(None,) dtype=int64>, 'month_9': <tf.Tensor 'IteratorGetNext:29' shape=(None,) dtype=int64>, 'month_10': <tf.Tensor 'IteratorGetNext:19' shape=(None,) dtype=int64>, 'month_11': <tf.Tensor 'IteratorGetNext:20' shape=(None,) dtype=int64>, 'month_12': <tf.Tensor 'IteratorGetNext:21' shape=(None,) dtype=int64>, 'day': <tf.Tensor 'IteratorGetNext:0' shape=(None,) dtype=int64>}. Consider rewriting this model with the Functional API.\n",
            "WARNING:tensorflow:Layers in a Sequential model should only have a single input tensor. Received: inputs={'temp': <tf.Tensor 'IteratorGetNext:33' shape=(None,) dtype=float32>, 'visib': <tf.Tensor 'IteratorGetNext:36' shape=(None,) dtype=float32>, 'wdsp': <tf.Tensor 'IteratorGetNext:37' shape=(None,) dtype=float32>, 'prcp': <tf.Tensor 'IteratorGetNext:32' shape=(None,) dtype=float32>, 'fog': <tf.Tensor 'IteratorGetNext:9' shape=(None,) dtype=int64>, 'year_2012': <tf.Tensor 'IteratorGetNext:38' shape=(None,) dtype=int64>, 'year_2013': <tf.Tensor 'IteratorGetNext:39' shape=(None,) dtype=int64>, 'year_2014': <tf.Tensor 'IteratorGetNext:40' shape=(None,) dtype=int64>, 'year_2015': <tf.Tensor 'IteratorGetNext:41' shape=(None,) dtype=int64>, 'year_2016': <tf.Tensor 'IteratorGetNext:42' shape=(None,) dtype=int64>, 'year_2017': <tf.Tensor 'IteratorGetNext:43' shape=(None,) dtype=int64>, 'year_2018': <tf.Tensor 'IteratorGetNext:44' shape=(None,) dtype=int64>, 'year_2019': <tf.Tensor 'IteratorGetNext:45' shape=(None,) dtype=int64>, 'year_2020': <tf.Tensor 'IteratorGetNext:46' shape=(None,) dtype=int64>, 'year_2021': <tf.Tensor 'IteratorGetNext:47' shape=(None,) dtype=int64>, 'year_2022': <tf.Tensor 'IteratorGetNext:48' shape=(None,) dtype=int64>, 'no_v': <tf.Tensor 'IteratorGetNext:30' shape=(None,) dtype=int64>, 'one_v': <tf.Tensor 'IteratorGetNext:31' shape=(None,) dtype=int64>, 'two_v': <tf.Tensor 'IteratorGetNext:35' shape=(None,) dtype=int64>, 'three_v': <tf.Tensor 'IteratorGetNext:34' shape=(None,) dtype=int64>, 'four_v': <tf.Tensor 'IteratorGetNext:10' shape=(None,) dtype=int64>, 'five_v': <tf.Tensor 'IteratorGetNext:8' shape=(None,) dtype=int64>, 'day_of_week_1': <tf.Tensor 'IteratorGetNext:1' shape=(None,) dtype=int64>, 'day_of_week_2': <tf.Tensor 'IteratorGetNext:2' shape=(None,) dtype=int64>, 'day_of_week_3': <tf.Tensor 'IteratorGetNext:3' shape=(None,) dtype=int64>, 'day_of_week_4': <tf.Tensor 'IteratorGetNext:4' shape=(None,) dtype=int64>, 'day_of_week_5': <tf.Tensor 'IteratorGetNext:5' shape=(None,) dtype=int64>, 'day_of_week_6': <tf.Tensor 'IteratorGetNext:6' shape=(None,) dtype=int64>, 'day_of_week_7': <tf.Tensor 'IteratorGetNext:7' shape=(None,) dtype=int64>, 'isMon': <tf.Tensor 'IteratorGetNext:12' shape=(None,) dtype=int64>, 'isTue': <tf.Tensor 'IteratorGetNext:16' shape=(None,) dtype=int64>, 'isWed': <tf.Tensor 'IteratorGetNext:17' shape=(None,) dtype=int64>, 'isThur': <tf.Tensor 'IteratorGetNext:15' shape=(None,) dtype=int64>, 'isFri': <tf.Tensor 'IteratorGetNext:11' shape=(None,) dtype=int64>, 'isSat': <tf.Tensor 'IteratorGetNext:13' shape=(None,) dtype=int64>, 'isSun': <tf.Tensor 'IteratorGetNext:14' shape=(None,) dtype=int64>, 'month_1': <tf.Tensor 'IteratorGetNext:18' shape=(None,) dtype=int64>, 'month_2': <tf.Tensor 'IteratorGetNext:22' shape=(None,) dtype=int64>, 'month_3': <tf.Tensor 'IteratorGetNext:23' shape=(None,) dtype=int64>, 'month_4': <tf.Tensor 'IteratorGetNext:24' shape=(None,) dtype=int64>, 'month_5': <tf.Tensor 'IteratorGetNext:25' shape=(None,) dtype=int64>, 'month_6': <tf.Tensor 'IteratorGetNext:26' shape=(None,) dtype=int64>, 'month_7': <tf.Tensor 'IteratorGetNext:27' shape=(None,) dtype=int64>, 'month_8': <tf.Tensor 'IteratorGetNext:28' shape=(None,) dtype=int64>, 'month_9': <tf.Tensor 'IteratorGetNext:29' shape=(None,) dtype=int64>, 'month_10': <tf.Tensor 'IteratorGetNext:19' shape=(None,) dtype=int64>, 'month_11': <tf.Tensor 'IteratorGetNext:20' shape=(None,) dtype=int64>, 'month_12': <tf.Tensor 'IteratorGetNext:21' shape=(None,) dtype=int64>, 'day': <tf.Tensor 'IteratorGetNext:0' shape=(None,) dtype=int64>}. Consider rewriting this model with the Functional API.\n"
          ]
        },
        {
          "output_type": "stream",
          "name": "stdout",
          "text": [
            "12/12 [==============================] - 5s 34ms/step - loss: 284342.5938 - mean_squared_error: 284342.5938\n",
            "Epoch 2/50\n",
            "12/12 [==============================] - 0s 31ms/step - loss: 278155.5625 - mean_squared_error: 278155.5625\n",
            "Epoch 3/50\n",
            "12/12 [==============================] - 0s 37ms/step - loss: 271297.9375 - mean_squared_error: 271297.9375\n",
            "Epoch 4/50\n",
            "12/12 [==============================] - 0s 23ms/step - loss: 263052.9062 - mean_squared_error: 263052.9062\n",
            "Epoch 5/50\n",
            "12/12 [==============================] - 0s 18ms/step - loss: 252805.8281 - mean_squared_error: 252805.8281\n",
            "Epoch 6/50\n",
            "12/12 [==============================] - 0s 34ms/step - loss: 240540.3594 - mean_squared_error: 240540.3594\n",
            "Epoch 7/50\n",
            "12/12 [==============================] - 0s 36ms/step - loss: 226265.5781 - mean_squared_error: 226265.5781\n",
            "Epoch 8/50\n",
            "12/12 [==============================] - 0s 23ms/step - loss: 210078.0156 - mean_squared_error: 210078.0156\n",
            "Epoch 9/50\n",
            "12/12 [==============================] - 0s 21ms/step - loss: 192024.4062 - mean_squared_error: 192024.4062\n",
            "Epoch 10/50\n",
            "12/12 [==============================] - 0s 33ms/step - loss: 172658.6094 - mean_squared_error: 172658.5938\n",
            "Epoch 11/50\n",
            "12/12 [==============================] - 0s 20ms/step - loss: 152106.5469 - mean_squared_error: 152106.5625\n",
            "Epoch 12/50\n",
            "12/12 [==============================] - 0s 29ms/step - loss: 131185.0469 - mean_squared_error: 131185.0469\n",
            "Epoch 13/50\n",
            "12/12 [==============================] - 0s 34ms/step - loss: 110409.1484 - mean_squared_error: 110409.1484\n",
            "Epoch 14/50\n",
            "12/12 [==============================] - 0s 31ms/step - loss: 90936.2500 - mean_squared_error: 90936.2500\n",
            "Epoch 15/50\n",
            "12/12 [==============================] - 0s 31ms/step - loss: 73414.4531 - mean_squared_error: 73414.4531\n",
            "Epoch 16/50\n",
            "12/12 [==============================] - 0s 30ms/step - loss: 58559.8828 - mean_squared_error: 58559.8828\n",
            "Epoch 17/50\n",
            "12/12 [==============================] - 0s 18ms/step - loss: 46719.9961 - mean_squared_error: 46719.9961\n",
            "Epoch 18/50\n",
            "12/12 [==============================] - 0s 24ms/step - loss: 38021.7031 - mean_squared_error: 38021.7031\n",
            "Epoch 19/50\n",
            "12/12 [==============================] - 0s 20ms/step - loss: 32452.4219 - mean_squared_error: 32452.4219\n",
            "Epoch 20/50\n",
            "12/12 [==============================] - 0s 26ms/step - loss: 28933.7910 - mean_squared_error: 28933.7910\n",
            "Epoch 21/50\n",
            "12/12 [==============================] - 0s 36ms/step - loss: 27156.2207 - mean_squared_error: 27156.2207\n",
            "Epoch 22/50\n",
            "12/12 [==============================] - 0s 25ms/step - loss: 26284.0371 - mean_squared_error: 26284.0371\n",
            "Epoch 23/50\n",
            "12/12 [==============================] - 0s 16ms/step - loss: 25940.8066 - mean_squared_error: 25940.8066\n",
            "Epoch 24/50\n",
            "12/12 [==============================] - 0s 10ms/step - loss: 25808.0000 - mean_squared_error: 25808.0000\n",
            "Epoch 25/50\n",
            "12/12 [==============================] - 0s 12ms/step - loss: 25787.4551 - mean_squared_error: 25787.4551\n",
            "Epoch 26/50\n",
            "12/12 [==============================] - 0s 10ms/step - loss: 25768.6406 - mean_squared_error: 25768.6406\n",
            "Epoch 27/50\n",
            "12/12 [==============================] - 0s 9ms/step - loss: 25769.5527 - mean_squared_error: 25769.5527\n",
            "Epoch 28/50\n",
            "12/12 [==============================] - 0s 10ms/step - loss: 25767.4590 - mean_squared_error: 25767.4590\n",
            "Epoch 29/50\n",
            "12/12 [==============================] - 0s 9ms/step - loss: 25767.8438 - mean_squared_error: 25767.8438\n",
            "Epoch 30/50\n",
            "12/12 [==============================] - 0s 10ms/step - loss: 25768.0410 - mean_squared_error: 25768.0410\n",
            "Epoch 31/50\n",
            "12/12 [==============================] - 0s 8ms/step - loss: 25769.9336 - mean_squared_error: 25769.9336\n",
            "Epoch 32/50\n",
            "12/12 [==============================] - 0s 8ms/step - loss: 25766.9375 - mean_squared_error: 25766.9375\n",
            "Epoch 33/50\n",
            "12/12 [==============================] - 0s 8ms/step - loss: 25767.3477 - mean_squared_error: 25767.3477\n",
            "Epoch 34/50\n",
            "12/12 [==============================] - 0s 7ms/step - loss: 25767.7344 - mean_squared_error: 25767.7344\n",
            "Epoch 35/50\n",
            "12/12 [==============================] - 0s 8ms/step - loss: 25767.7930 - mean_squared_error: 25767.7930\n",
            "Epoch 36/50\n",
            "12/12 [==============================] - 0s 11ms/step - loss: 25767.3906 - mean_squared_error: 25767.3906\n",
            "Epoch 37/50\n",
            "12/12 [==============================] - 0s 17ms/step - loss: 25769.4414 - mean_squared_error: 25769.4414\n",
            "Epoch 38/50\n",
            "12/12 [==============================] - 0s 9ms/step - loss: 25767.8438 - mean_squared_error: 25767.8438\n",
            "Epoch 39/50\n",
            "12/12 [==============================] - 0s 11ms/step - loss: 25767.5273 - mean_squared_error: 25767.5273\n",
            "Epoch 40/50\n",
            "12/12 [==============================] - 0s 11ms/step - loss: 25767.1719 - mean_squared_error: 25767.1719\n",
            "Epoch 41/50\n",
            "12/12 [==============================] - 0s 14ms/step - loss: 25768.6016 - mean_squared_error: 25768.6016\n",
            "Epoch 42/50\n",
            "12/12 [==============================] - 0s 10ms/step - loss: 25767.7930 - mean_squared_error: 25767.7930\n",
            "Epoch 43/50\n",
            "12/12 [==============================] - 0s 8ms/step - loss: 25767.2500 - mean_squared_error: 25767.2500\n",
            "Epoch 44/50\n",
            "12/12 [==============================] - 0s 13ms/step - loss: 25773.1426 - mean_squared_error: 25773.1426\n",
            "Epoch 45/50\n",
            "12/12 [==============================] - 0s 9ms/step - loss: 25769.7422 - mean_squared_error: 25769.7422\n",
            "Epoch 46/50\n",
            "12/12 [==============================] - 0s 11ms/step - loss: 25770.7812 - mean_squared_error: 25770.7812\n",
            "Epoch 47/50\n",
            "12/12 [==============================] - 0s 13ms/step - loss: 25775.6035 - mean_squared_error: 25775.6035\n",
            "Epoch 48/50\n",
            "12/12 [==============================] - 0s 9ms/step - loss: 25768.9648 - mean_squared_error: 25768.9648\n",
            "Epoch 49/50\n",
            "12/12 [==============================] - 0s 12ms/step - loss: 25767.2168 - mean_squared_error: 25767.2168\n",
            "Epoch 50/50\n",
            "12/12 [==============================] - 0s 13ms/step - loss: 25767.2168 - mean_squared_error: 25767.2168\n"
          ]
        },
        {
          "output_type": "display_data",
          "data": {
            "text/plain": [
              "<Figure size 432x288 with 1 Axes>"
            ],
            "image/png": "[encoded data removed]"
          },
          "metadata": {
            "needs_background": "light"
          }
        },
        {
          "output_type": "stream",
          "name": "stdout",
          "text": [
            "\n",
            " Evaluate the new model against the test set:\n"
          ]
        },
        {
          "output_type": "stream",
          "name": "stderr",
          "text": [
            "WARNING:tensorflow:Layers in a Sequential model should only have a single input tensor. Received: inputs={'temp': <tf.Tensor 'IteratorGetNext:33' shape=(None,) dtype=float32>, 'visib': <tf.Tensor 'IteratorGetNext:36' shape=(None,) dtype=float32>, 'wdsp': <tf.Tensor 'IteratorGetNext:37' shape=(None,) dtype=float32>, 'prcp': <tf.Tensor 'IteratorGetNext:32' shape=(None,) dtype=float32>, 'fog': <tf.Tensor 'IteratorGetNext:9' shape=(None,) dtype=int64>, 'year_2012': <tf.Tensor 'IteratorGetNext:38' shape=(None,) dtype=int64>, 'year_2013': <tf.Tensor 'IteratorGetNext:39' shape=(None,) dtype=int64>, 'year_2014': <tf.Tensor 'IteratorGetNext:40' shape=(None,) dtype=int64>, 'year_2015': <tf.Tensor 'IteratorGetNext:41' shape=(None,) dtype=int64>, 'year_2016': <tf.Tensor 'IteratorGetNext:42' shape=(None,) dtype=int64>, 'year_2017': <tf.Tensor 'IteratorGetNext:43' shape=(None,) dtype=int64>, 'year_2018': <tf.Tensor 'IteratorGetNext:44' shape=(None,) dtype=int64>, 'year_2019': <tf.Tensor 'IteratorGetNext:45' shape=(None,) dtype=int64>, 'year_2020': <tf.Tensor 'IteratorGetNext:46' shape=(None,) dtype=int64>, 'year_2021': <tf.Tensor 'IteratorGetNext:47' shape=(None,) dtype=int64>, 'year_2022': <tf.Tensor 'IteratorGetNext:48' shape=(None,) dtype=int64>, 'no_v': <tf.Tensor 'IteratorGetNext:30' shape=(None,) dtype=int64>, 'one_v': <tf.Tensor 'IteratorGetNext:31' shape=(None,) dtype=int64>, 'two_v': <tf.Tensor 'IteratorGetNext:35' shape=(None,) dtype=int64>, 'three_v': <tf.Tensor 'IteratorGetNext:34' shape=(None,) dtype=int64>, 'four_v': <tf.Tensor 'IteratorGetNext:10' shape=(None,) dtype=int64>, 'five_v': <tf.Tensor 'IteratorGetNext:8' shape=(None,) dtype=int64>, 'day_of_week_1': <tf.Tensor 'IteratorGetNext:1' shape=(None,) dtype=int64>, 'day_of_week_2': <tf.Tensor 'IteratorGetNext:2' shape=(None,) dtype=int64>, 'day_of_week_3': <tf.Tensor 'IteratorGetNext:3' shape=(None,) dtype=int64>, 'day_of_week_4': <tf.Tensor 'IteratorGetNext:4' shape=(None,) dtype=int64>, 'day_of_week_5': <tf.Tensor 'IteratorGetNext:5' shape=(None,) dtype=int64>, 'day_of_week_6': <tf.Tensor 'IteratorGetNext:6' shape=(None,) dtype=int64>, 'day_of_week_7': <tf.Tensor 'IteratorGetNext:7' shape=(None,) dtype=int64>, 'isMon': <tf.Tensor 'IteratorGetNext:12' shape=(None,) dtype=int64>, 'isTue': <tf.Tensor 'IteratorGetNext:16' shape=(None,) dtype=int64>, 'isWed': <tf.Tensor 'IteratorGetNext:17' shape=(None,) dtype=int64>, 'isThur': <tf.Tensor 'IteratorGetNext:15' shape=(None,) dtype=int64>, 'isFri': <tf.Tensor 'IteratorGetNext:11' shape=(None,) dtype=int64>, 'isSat': <tf.Tensor 'IteratorGetNext:13' shape=(None,) dtype=int64>, 'isSun': <tf.Tensor 'IteratorGetNext:14' shape=(None,) dtype=int64>, 'month_1': <tf.Tensor 'IteratorGetNext:18' shape=(None,) dtype=int64>, 'month_2': <tf.Tensor 'IteratorGetNext:22' shape=(None,) dtype=int64>, 'month_3': <tf.Tensor 'IteratorGetNext:23' shape=(None,) dtype=int64>, 'month_4': <tf.Tensor 'IteratorGetNext:24' shape=(None,) dtype=int64>, 'month_5': <tf.Tensor 'IteratorGetNext:25' shape=(None,) dtype=int64>, 'month_6': <tf.Tensor 'IteratorGetNext:26' shape=(None,) dtype=int64>, 'month_7': <tf.Tensor 'IteratorGetNext:27' shape=(None,) dtype=int64>, 'month_8': <tf.Tensor 'IteratorGetNext:28' shape=(None,) dtype=int64>, 'month_9': <tf.Tensor 'IteratorGetNext:29' shape=(None,) dtype=int64>, 'month_10': <tf.Tensor 'IteratorGetNext:19' shape=(None,) dtype=int64>, 'month_11': <tf.Tensor 'IteratorGetNext:20' shape=(None,) dtype=int64>, 'month_12': <tf.Tensor 'IteratorGetNext:21' shape=(None,) dtype=int64>, 'day': <tf.Tensor 'IteratorGetNext:0' shape=(None,) dtype=int64>}. Consider rewriting this model with the Functional API.\n"
          ]
        },
        {
          "output_type": "stream",
          "name": "stdout",
          "text": [
            "3/3 [==============================] - 1s 6ms/step - loss: 27268.4531 - mean_squared_error: 27268.4531\n"
          ]
        },
        {
          "output_type": "execute_result",
          "data": {
            "text/plain": [
              "[27268.453125, 27268.453125]"
            ]
          },
          "metadata": {},
          "execution_count": 8
        }
      ],
      "source": [
        "# Sets the hyperparameters\n",
        "learning_rate = 0.001\n",
        "epochs = 50\n",
        "batch_size = 200\n",
        "\n",
        "# Selects the label\n",
        "label_name = \"num_collisions\"\n",
        "\n",
        "# Sets the model's topography\n",
        "my_model = create_model(learning_rate, my_feature_layer, my_normalisation_layer)\n",
        "\n",
        "# Trains the model on the normalized training set\n",
        "epochs, mse = train_model(my_model, train_df, epochs, \n",
        "                          label_name, batch_size)\n",
        "plot_the_loss_curve(epochs, mse)\n",
        "\n",
        "# tests the model against the test set\n",
        "test_features = {name:np.array(value) for name, value in test_df.items()}\n",
        "test_label = np.array(test_features.pop(label_name)) \n",
        "print(\"\\n Evaluate the new model against the test set:\")\n",
        "my_model.evaluate(x = test_features, y = test_label, batch_size = batch_size)"
      ]
    },
    {
      "cell_type": "code",
      "source": [
        "#@title Latest Data Predictions\n",
        "\n",
        "latest_data = pd.read_csv (\"https://raw.githubusercontent.com/21002268uhi/21002268_DataAnalytics/main/oh_latest%20(3).csv\", index_col = 0)"
      ],
      "metadata": {
        "id": "WJAZsN9n4ecV"
      },
      "execution_count": 9,
      "outputs": []
    },
    {
      "cell_type": "code",
      "source": [
        "latest_features = {name:np.array(value) for name, value in latest_data.items()}\n",
        "latest_label = np.array(latest_features.pop(\"num_collisions\"))"
      ],
      "metadata": {
        "id": "fQJfcubBUc6E"
      },
      "execution_count": 10,
      "outputs": []
    },
    {
      "cell_type": "code",
      "source": [
        "prediction = my_model.predict(latest_features)"
      ],
      "metadata": {
        "colab": {
          "base_uri": "https://localhost:8080/"
        },
        "id": "RYj7ndS2-8es",
        "outputId": "8e793195-236a-423e-c571-d6842adf6bb8"
      },
      "execution_count": 11,
      "outputs": [
        {
          "output_type": "stream",
          "name": "stderr",
          "text": [
            "WARNING:tensorflow:Layers in a Sequential model should only have a single input tensor. Received: inputs={'temp': <tf.Tensor 'IteratorGetNext:21' shape=(None,) dtype=float32>, 'wdsp': <tf.Tensor 'IteratorGetNext:23' shape=(None,) dtype=float32>, 'visib': <tf.Tensor 'IteratorGetNext:22' shape=(None,) dtype=float32>, 'prcp': <tf.Tensor 'IteratorGetNext:20' shape=(None,) dtype=float32>, 'fog': <tf.Tensor 'IteratorGetNext:0' shape=(None,) dtype=int64>, 'isMon': <tf.Tensor 'IteratorGetNext:2' shape=(None,) dtype=int64>, 'isTue': <tf.Tensor 'IteratorGetNext:6' shape=(None,) dtype=int64>, 'isWed': <tf.Tensor 'IteratorGetNext:7' shape=(None,) dtype=int64>, 'isThur': <tf.Tensor 'IteratorGetNext:5' shape=(None,) dtype=int64>, 'isFri': <tf.Tensor 'IteratorGetNext:1' shape=(None,) dtype=int64>, 'isSat': <tf.Tensor 'IteratorGetNext:3' shape=(None,) dtype=int64>, 'isSun': <tf.Tensor 'IteratorGetNext:4' shape=(None,) dtype=int64>, 'year_2012': <tf.Tensor 'IteratorGetNext:24' shape=(None,) dtype=int64>, 'year_2013': <tf.Tensor 'IteratorGetNext:25' shape=(None,) dtype=int64>, 'year_2014': <tf.Tensor 'IteratorGetNext:26' shape=(None,) dtype=int64>, 'year_2015': <tf.Tensor 'IteratorGetNext:27' shape=(None,) dtype=int64>, 'year_2016': <tf.Tensor 'IteratorGetNext:28' shape=(None,) dtype=int64>, 'year_2018': <tf.Tensor 'IteratorGetNext:29' shape=(None,) dtype=int64>, 'year_2019': <tf.Tensor 'IteratorGetNext:30' shape=(None,) dtype=int64>, 'year_2020': <tf.Tensor 'IteratorGetNext:31' shape=(None,) dtype=int64>, 'year_2021': <tf.Tensor 'IteratorGetNext:32' shape=(None,) dtype=int64>, 'year_2022': <tf.Tensor 'IteratorGetNext:33' shape=(None,) dtype=int64>, 'month_1': <tf.Tensor 'IteratorGetNext:8' shape=(None,) dtype=int64>, 'month_2': <tf.Tensor 'IteratorGetNext:12' shape=(None,) dtype=int64>, 'month_3': <tf.Tensor 'IteratorGetNext:13' shape=(None,) dtype=int64>, 'month_4': <tf.Tensor 'IteratorGetNext:14' shape=(None,) dtype=int64>, 'month_5': <tf.Tensor 'IteratorGetNext:15' shape=(None,) dtype=int64>, 'month_6': <tf.Tensor 'IteratorGetNext:16' shape=(None,) dtype=int64>, 'month_7': <tf.Tensor 'IteratorGetNext:17' shape=(None,) dtype=int64>, 'month_8': <tf.Tensor 'IteratorGetNext:18' shape=(None,) dtype=int64>, 'month_9': <tf.Tensor 'IteratorGetNext:19' shape=(None,) dtype=int64>, 'month_10': <tf.Tensor 'IteratorGetNext:9' shape=(None,) dtype=int64>, 'month_11': <tf.Tensor 'IteratorGetNext:10' shape=(None,) dtype=int64>, 'month_12': <tf.Tensor 'IteratorGetNext:11' shape=(None,) dtype=int64>}. Consider rewriting this model with the Functional API.\n"
          ]
        },
        {
          "output_type": "stream",
          "name": "stdout",
          "text": [
            "1/1 [==============================] - 0s 470ms/step\n"
          ]
        }
      ]
    },
    {
      "cell_type": "code",
      "source": [
        "# table of results\n",
        "actual = np.array(latest_data[\"num_collisions\"])\n",
        "print(\"Predicted      Actual     Difference\")\n",
        "print(\"------------------------------------\")\n",
        "for i in range(len(prediction)):\n",
        "  print (prediction[i],\"   \", actual[i],\"     \", prediction[i]-actual[i])"
      ],
      "metadata": {
        "colab": {
          "base_uri": "https://localhost:8080/"
        },
        "id": "MtLDdfCrphn2",
        "outputId": "d4fee6ec-0bc4-4141-8c7e-3b175ffda811"
      },
      "execution_count": 12,
      "outputs": [
        {
          "output_type": "stream",
          "name": "stdout",
          "text": [
            "Predicted      Actual     Difference\n",
            "------------------------------------\n",
            "[516.20575]     153       [363.20575]\n",
            "[515.6809]     188       [327.6809]\n",
            "[515.76154]     268       [247.76154]\n",
            "[516.0983]     278       [238.09833]\n",
            "[515.76166]     197       [318.76166]\n",
            "[515.90875]     257       [258.90875]\n",
            "[515.81476]     195       [320.81476]\n"
          ]
        }
      ]
    },
    {
      "cell_type": "markdown",
      "source": [
        "The model trained but the results indicate an error in the methodology.\n",
        "\n",
        "Batch normalisation was also attempted but produced equally bad results.\n",
        "\n",
        "[Back to main document](https://colab.research.google.com/drive/1tR-0vi4vbjV7kkigRkSY0DAIdVnQerUq?usp=sharing)"
      ],
      "metadata": {
        "id": "cPhITSlonSjk"
      }
    }
  ]
}