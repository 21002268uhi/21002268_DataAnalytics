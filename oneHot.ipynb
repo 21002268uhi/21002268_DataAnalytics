{
  "nbformat": 4,
  "nbformat_minor": 0,
  "metadata": {
    "colab": {
      "provenance": [],
      "authorship_tag": "ABX9TyN3C7JsuGIfahd6zpcZxUJl",
      "include_colab_link": true
    },
    "kernelspec": {
      "name": "ir",
      "display_name": "R"
    },
    "language_info": {
      "name": "R"
    }
  },
  "cells": [
    {
      "cell_type": "markdown",
      "metadata": {
        "id": "view-in-github",
        "colab_type": "text"
      },
      "source": [
        "<a href=\"https://colab.research.google.com/github/21002268uhi/21002268_DataAnalytics/blob/main/oneHot.ipynb\" target=\"_parent\"><img src=\"https://colab.research.google.com/assets/colab-badge.svg\" alt=\"Open In Colab\"/></a>"
      ]
    },
    {
      "cell_type": "code",
      "source": [
        "library(tidyverse)\n",
        "library(lubridate)\n",
        "install.packages(\"mltools\")\n",
        "library(mltools)\n",
        "library(data.table)\n"
      ],
      "metadata": {
        "id": "OuBeZ_RrilV1",
        "colab": {
          "base_uri": "https://localhost:8080/"
        },
        "outputId": "509fe2f8-c675-4b51-b695-8f150140e564"
      },
      "execution_count": null,
      "outputs": [
        {
          "output_type": "stream",
          "name": "stderr",
          "text": [
            "Warning message in system(\"timedatectl\", intern = TRUE):\n",
            "“running command 'timedatectl' had status 1”\n",
            "── \u001b[1mAttaching packages\u001b[22m ─────────────────────────────────────── tidyverse 1.3.1 ──\n",
            "\n",
            "\u001b[32m✔\u001b[39m \u001b[34mggplot2\u001b[39m 3.4.0      \u001b[32m✔\u001b[39m \u001b[34mpurrr  \u001b[39m 0.3.5 \n",
            "\u001b[32m✔\u001b[39m \u001b[34mtibble \u001b[39m 3.1.8      \u001b[32m✔\u001b[39m \u001b[34mdplyr  \u001b[39m 1.0.10\n",
            "\u001b[32m✔\u001b[39m \u001b[34mtidyr  \u001b[39m 1.2.1      \u001b[32m✔\u001b[39m \u001b[34mstringr\u001b[39m 1.4.1 \n",
            "\u001b[32m✔\u001b[39m \u001b[34mreadr  \u001b[39m 2.1.3      \u001b[32m✔\u001b[39m \u001b[34mforcats\u001b[39m 0.5.2 \n",
            "\n",
            "── \u001b[1mConflicts\u001b[22m ────────────────────────────────────────── tidyverse_conflicts() ──\n",
            "\u001b[31m✖\u001b[39m \u001b[34mdplyr\u001b[39m::\u001b[32mfilter()\u001b[39m masks \u001b[34mstats\u001b[39m::filter()\n",
            "\u001b[31m✖\u001b[39m \u001b[34mdplyr\u001b[39m::\u001b[32mlag()\u001b[39m    masks \u001b[34mstats\u001b[39m::lag()\n",
            "\n",
            "Loading required package: timechange\n",
            "\n",
            "\n",
            "Attaching package: ‘lubridate’\n",
            "\n",
            "\n",
            "The following objects are masked from ‘package:base’:\n",
            "\n",
            "    date, intersect, setdiff, union\n",
            "\n",
            "\n",
            "Installing package into ‘/usr/local/lib/R/site-library’\n",
            "(as ‘lib’ is unspecified)\n",
            "\n",
            "\n",
            "Attaching package: ‘mltools’\n",
            "\n",
            "\n",
            "The following object is masked from ‘package:tidyr’:\n",
            "\n",
            "    replace_na\n",
            "\n",
            "\n",
            "\n",
            "Attaching package: ‘data.table’\n",
            "\n",
            "\n",
            "The following objects are masked from ‘package:lubridate’:\n",
            "\n",
            "    hour, isoweek, mday, minute, month, quarter, second, wday, week,\n",
            "    yday, year\n",
            "\n",
            "\n",
            "The following objects are masked from ‘package:dplyr’:\n",
            "\n",
            "    between, first, last\n",
            "\n",
            "\n",
            "The following object is masked from ‘package:purrr’:\n",
            "\n",
            "    transpose\n",
            "\n",
            "\n"
          ]
        }
      ]
    },
    {
      "cell_type": "markdown",
      "source": [
        "Loads the collated data from Github"
      ],
      "metadata": {
        "id": "8Q6DvCQ2_0og"
      }
    },
    {
      "cell_type": "code",
      "source": [
        "collated_data<- read.csv(\"https://raw.githubusercontent.com/21002268uhi/21002268_DataAnalytics/main/bquxjob_18ad732b_184bdcb4cd4.csv\")"
      ],
      "metadata": {
        "id": "oyUYiDEi_0og"
      },
      "execution_count": null,
      "outputs": []
    },
    {
      "cell_type": "code",
      "source": [
        "latest_data<- read.csv('https://raw.githubusercontent.com/21002268uhi/21002268_DataAnalytics/main/bquxjob_146505aa_184d278d720.csv')"
      ],
      "metadata": {
        "id": "_JC02Yb2_0oh"
      },
      "execution_count": null,
      "outputs": []
    },
    {
      "cell_type": "markdown",
      "source": [
        "The function below is based on the one used in part 1 of the assignment but has had one hot coding added."
      ],
      "metadata": {
        "id": "piMdxLBzKRvr"
      }
    },
    {
      "cell_type": "code",
      "source": [
        "#@title Function to clean and manipulate the data\n",
        "\n",
        "clean_the_data<- function(df){\n",
        "clean<- df%>%\n",
        "  # select the variables\n",
        "  select(collision_date, num_collisions: vehicle_5, temp, visib, wdsp, prcp,\n",
        "         fog )%>%\n",
        "           \n",
        "  # rename date\n",
        "  mutate(date = collision_date)%>%\n",
        "  select(-collision_date)%>%\n",
        "\n",
        "  # calculate numbers of vehicles involved in collisions\n",
        "  mutate(year = year(date))%>%\n",
        "  mutate(no_v = num_collisions-vehicle_1)%>%\n",
        "  mutate(one_v = vehicle_1 - vehicle_2)%>%\n",
        "  mutate(two_v = vehicle_2 - vehicle_3)%>%\n",
        "  mutate(three_v = vehicle_3 - vehicle_4)%>%\n",
        "  mutate(four_v = vehicle_4- vehicle_5)%>%\n",
        "  mutate(five_v = vehicle_5)%>%\n",
        "  select (-vehicle_1, -vehicle_2, -vehicle_3, -vehicle_4, -vehicle_5)%>%\n",
        " \n",
        " # Adds day of week\n",
        "  mutate(day_of_week = as.factor(wday(date)))%>%\n",
        "  mutate(isMon = ifelse(day_of_week == 1, 1,0),\n",
        "          isTue = ifelse(day_of_week == 2, 1,0),\n",
        "          isWed = ifelse(day_of_week == 3, 1,0),\n",
        "          isThur = ifelse(day_of_week == 4, 1,0),\n",
        "          isFri = ifelse(day_of_week == 5, 1,0),\n",
        "          isSat = ifelse(day_of_week == 6, 1,0),\n",
        "          isSun = ifelse(day_of_week == 7, 1,0))%>%\n",
        "\n",
        "  # Adds year, month, day and removes date\n",
        "  mutate(year = year(date))%>%\n",
        "  mutate(month = month(date))%>%\n",
        "  mutate(day = day(date))%>%\n",
        "  select(-date)\n",
        "\n",
        "  # Cleans the weather data\n",
        "    # replace NA or 9999.9 in temp with average temp\n",
        "    replace(clean$temp, clean$temp == 9999.9, median(clean$temp, na.rm = T))\n",
        "    clean$temp[is.na(clean$temp)]<-median(clean$temp, na.rm = T)\n",
        "    # visib replace missing with the max visibility of 10\n",
        "    replace(clean$visib, clean$visib == 999.9, 10)\n",
        "    clean$visib[is.na(clean$visib)]<-10\n",
        "    # wdsp replacing missing and NA with mean\n",
        "    replace(clean$wdsp, clean$wdsp == 999.9, median(clean$wdsp, na.rm = T))\n",
        "    replace(clean$wdsp, clean$wdsp[is.na(clean$wdsp)], median(clean$wdsp, na.rm = T))\n",
        "    # mxpsd replace missing with median \n",
        "    clean$mxpsd[clean$mxpsd == 999.9]<-median(clean$mxpsd, na.rm = T)\n",
        "    replace(clean$mxpsd, clean$mxpsd[is.na(clean$mxpsd)], median(clean$mxpsd, na.rm = T))\n",
        "    # gust replace missing with median \n",
        "    clean$gust[clean$gust == 999.9]<-median(clean$gust, na.rm = T)\n",
        "    replace(clean$gust, clean$gust[is.na(clean$gust)], median(clean$gust, na.rm = T))\n",
        "    # prcp missing = 99.99 should change this to zero\n",
        "    clean$prcp[clean$prcp == 99.99]<-0\n",
        "    replace(clean$prcp, clean$prcp[is.na(clean$prcp)], 0)\n",
        "    # dewp missing and NA set to median\n",
        "    clean$dewp[clean$dewp == 9999.9]<-median(clean$dewp, na.rm = T)\n",
        "    replace(clean$dewp, clean$dewp[is.na(clean$dewp)],median(clean$dewp, na.rm = T) )\n",
        "    # max missing and NA set to median\n",
        "    clean$max[clean$max == 9999.9]<-median(clean$max, na.rm = T)\n",
        "    replace(clean$max, clean$max[is.na(clean$max)],median(clean$max, na.rm = T) )\n",
        "    # min missing and NA set to median\n",
        "    clean$min[clean$min == 9999.9]<-median(clean$min, na.rm = T)\n",
        "    replace(clean$min, clean$min[is.na(clean$min)],median(clean$min, na.rm = T) )\n",
        "\n",
        "  # Remove the rows with missing data\n",
        "    clean<- clean%>%\n",
        "    filter(!is.na(prcp))%>%\n",
        "\n",
        "  # Adds one hot coding\n",
        "    mutate(year = as.factor(year),\n",
        "          month = as.factor(month))\n",
        "\n",
        "    clean <- one_hot(as.data.table(clean))\n",
        "\n",
        "  return (clean)\n",
        "}\n",
        "\n"
      ],
      "metadata": {
        "id": "v6sGW0q60lFy"
      },
      "execution_count": null,
      "outputs": []
    },
    {
      "cell_type": "code",
      "source": [
        "# runs the function to clean the data\n",
        "ohc_clean_data <- clean_the_data(collated_data)\n",
        "print(ohc_clean_data)"
      ],
      "metadata": {
        "id": "QmNKIftLX-KF",
        "colab": {
          "base_uri": "https://localhost:8080/"
        },
        "outputId": "76a296ef-d464-471f-a78b-979a71aa1e1b"
      },
      "execution_count": null,
      "outputs": [
        {
          "output_type": "stream",
          "name": "stdout",
          "text": [
            "      num_collisions temp visib wdsp prcp fog year_2012 year_2013 year_2014\n",
            "   1:            538 83.6   9.7  4.1 0.00   0         1         0         0\n",
            "   2:            564 80.3  10.0  3.8 0.00   0         1         0         0\n",
            "   3:            664 79.8  10.0  2.9 0.00   0         1         0         0\n",
            "   4:            432 81.8   9.2  3.6 0.06   0         1         0         0\n",
            "   5:            591 86.7   9.4  3.8 0.00   0         1         0         0\n",
            "  ---                                                                      \n",
            "3771:            293 65.6   6.6 10.9 2.14   1         0         0         0\n",
            "3772:            284 55.3  10.0 17.5 0.00   0         0         0         0\n",
            "3773:            293 55.1  10.0 10.3 0.00   0         0         0         0\n",
            "3774:            279 53.8   9.6  4.9 0.00   1         0         0         0\n",
            "3775:            262 49.3   9.9  4.4 0.00   0         0         0         0\n",
            "      year_2015 year_2016 year_2017 year_2018 year_2019 year_2020 year_2021\n",
            "   1:         0         0         0         0         0         0         0\n",
            "   2:         0         0         0         0         0         0         0\n",
            "   3:         0         0         0         0         0         0         0\n",
            "   4:         0         0         0         0         0         0         0\n",
            "   5:         0         0         0         0         0         0         0\n",
            "  ---                                                                      \n",
            "3771:         0         0         0         0         0         0         0\n",
            "3772:         0         0         0         0         0         0         0\n",
            "3773:         0         0         0         0         0         0         0\n",
            "3774:         0         0         0         0         0         0         0\n",
            "3775:         0         0         0         0         0         0         0\n",
            "      year_2022 no_v one_v two_v three_v four_v five_v day_of_week_1\n",
            "   1:         0    0    47   452      32      7      0             1\n",
            "   2:         0    0    54   470      35      3      2             0\n",
            "   3:         0    0    61   562      35      4      2             0\n",
            "   4:         0    0    52   345      19     13      3             0\n",
            "   5:         0    0    43   497      37      9      5             0\n",
            "  ---                                                               \n",
            "3771:         1    3    73   196      13      2      6             0\n",
            "3772:         1    3    57   202      15      5      2             0\n",
            "3773:         1    2    72   177      33      7      2             0\n",
            "3774:         1    0    69   168      24     14      4             1\n",
            "3775:         1    1    48   189      21      3      0             0\n",
            "      day_of_week_2 day_of_week_3 day_of_week_4 day_of_week_5 day_of_week_6\n",
            "   1:             0             0             0             0             0\n",
            "   2:             1             0             0             0             0\n",
            "   3:             0             1             0             0             0\n",
            "   4:             0             0             1             0             0\n",
            "   5:             0             0             0             1             0\n",
            "  ---                                                                      \n",
            "3771:             0             0             0             1             0\n",
            "3772:             0             0             0             0             1\n",
            "3773:             0             0             0             0             0\n",
            "3774:             0             0             0             0             0\n",
            "3775:             1             0             0             0             0\n",
            "      day_of_week_7 isMon isTue isWed isThur isFri isSat isSun month_1 month_2\n",
            "   1:             0     1     0     0      0     0     0     0       0       0\n",
            "   2:             0     0     1     0      0     0     0     0       0       0\n",
            "   3:             0     0     0     1      0     0     0     0       0       0\n",
            "   4:             0     0     0     0      1     0     0     0       0       0\n",
            "   5:             0     0     0     0      0     1     0     0       0       0\n",
            "  ---                                                                         \n",
            "3771:             0     0     0     0      0     1     0     0       0       0\n",
            "3772:             0     0     0     0      0     0     1     0       0       0\n",
            "3773:             1     0     0     0      0     0     0     1       0       0\n",
            "3774:             0     1     0     0      0     0     0     0       0       0\n",
            "3775:             0     0     1     0      0     0     0     0       0       0\n",
            "      month_3 month_4 month_5 month_6 month_7 month_8 month_9 month_10 month_11\n",
            "   1:       0       0       0       0       1       0       0        0        0\n",
            "   2:       0       0       0       0       1       0       0        0        0\n",
            "   3:       0       0       0       0       1       0       0        0        0\n",
            "   4:       0       0       0       0       1       0       0        0        0\n",
            "   5:       0       0       0       0       1       0       0        0        0\n",
            "  ---                                                                          \n",
            "3771:       0       0       0       0       0       0       0        1        0\n",
            "3772:       0       0       0       0       0       0       0        1        0\n",
            "3773:       0       0       0       0       0       0       0        1        0\n",
            "3774:       0       0       0       0       0       0       0        1        0\n",
            "3775:       0       0       0       0       0       0       0        1        0\n",
            "      month_12 day\n",
            "   1:        0   1\n",
            "   2:        0   2\n",
            "   3:        0   3\n",
            "   4:        0   4\n",
            "   5:        0   5\n",
            "  ---             \n",
            "3771:        0  27\n",
            "3772:        0  28\n",
            "3773:        0  29\n",
            "3774:        0  30\n",
            "3775:        0  31\n"
          ]
        }
      ]
    },
    {
      "cell_type": "code",
      "source": [
        "# runs function to clean latest data\n",
        "ohc_latest<- clean_the_data(latest_data)\n",
        "\n",
        "# adds the missing variables\n",
        "ohc_latest<-ohc_latest%>%\n",
        "  mutate( year_2021 = 0, year_2020 = 0, year_2019 = 0, year_2018 = 0, year_2017 = 0,\n",
        "          year_2016 = 0, year_2015 = 0, year_2014 = 0, year_2013 = 0, year_2012 = 0)%>%\n",
        "  mutate( month_1 = 0, month_2 = 0, month_3 = 0, month_4 = 0, month_5 = 0, month_6 = 0,\n",
        "          month_7 = 0, month_8 = 0, month_9 = 0, month_10 = 0, month_11 = 1, month_12 = 0)\n",
        "\n",
        "print(ohc_latest)"
      ],
      "metadata": {
        "id": "xS8l4jc4lxQn",
        "colab": {
          "base_uri": "https://localhost:8080/"
        },
        "outputId": "fbc4f960-33a5-4534-eab8-da54b634f106"
      },
      "execution_count": null,
      "outputs": [
        {
          "output_type": "stream",
          "name": "stdout",
          "text": [
            "   num_collisions temp visib wdsp prcp fog year_2022 no_v one_v two_v three_v\n",
            "1:            153 43.5  10.0  6.9 0.00   0         1    0    42    92      12\n",
            "2:            188 54.9   9.6 11.6 0.00   0         1    2    42   126      14\n",
            "3:            268 48.7  10.0 14.9 0.00   0         1    1    53   189      18\n",
            "4:            278 36.9  10.0 16.1 0.00   0         1    0    65   195      15\n",
            "5:            197 47.2  10.0 16.2 0.11   0         1    3    54   112      19\n",
            "6:            257 50.2  10.0  9.4 0.00   0         1    1    52   176      18\n",
            "7:            195 52.6   9.3 10.3 0.00   0         1    3    39   129      16\n",
            "   four_v five_v day_of_week_1 day_of_week_2 day_of_week_3 day_of_week_4\n",
            "1:      5      2             0             0             0             0\n",
            "2:      1      3             1             0             0             0\n",
            "3:      4      3             0             0             1             0\n",
            "4:      1      2             0             1             0             0\n",
            "5:      9      0             0             0             0             0\n",
            "6:      6      4             0             0             0             1\n",
            "7:      5      3             0             0             0             0\n",
            "   day_of_week_5 day_of_week_6 day_of_week_7 isMon isTue isWed isThur isFri\n",
            "1:             1             0             0     0     0     0      0     1\n",
            "2:             0             0             0     1     0     0      0     0\n",
            "3:             0             0             0     0     0     1      0     0\n",
            "4:             0             0             0     0     1     0      0     0\n",
            "5:             0             0             1     0     0     0      0     0\n",
            "6:             0             0             0     0     0     0      1     0\n",
            "7:             0             1             0     0     0     0      0     0\n",
            "   isSat isSun month_11 day year_2021 year_2020 year_2019 year_2018 year_2017\n",
            "1:     0     0        1  24         0         0         0         0         0\n",
            "2:     0     0        1  27         0         0         0         0         0\n",
            "3:     0     0        1  22         0         0         0         0         0\n",
            "4:     0     0        1  21         0         0         0         0         0\n",
            "5:     0     1        1  26         0         0         0         0         0\n",
            "6:     0     0        1  23         0         0         0         0         0\n",
            "7:     1     0        1  25         0         0         0         0         0\n",
            "   year_2016 year_2015 year_2014 year_2013 year_2012 month_1 month_2 month_3\n",
            "1:         0         0         0         0         0       0       0       0\n",
            "2:         0         0         0         0         0       0       0       0\n",
            "3:         0         0         0         0         0       0       0       0\n",
            "4:         0         0         0         0         0       0       0       0\n",
            "5:         0         0         0         0         0       0       0       0\n",
            "6:         0         0         0         0         0       0       0       0\n",
            "7:         0         0         0         0         0       0       0       0\n",
            "   month_4 month_5 month_6 month_7 month_8 month_9 month_10 month_12\n",
            "1:       0       0       0       0       0       0        0        0\n",
            "2:       0       0       0       0       0       0        0        0\n",
            "3:       0       0       0       0       0       0        0        0\n",
            "4:       0       0       0       0       0       0        0        0\n",
            "5:       0       0       0       0       0       0        0        0\n",
            "6:       0       0       0       0       0       0        0        0\n",
            "7:       0       0       0       0       0       0        0        0\n"
          ]
        }
      ]
    },
    {
      "cell_type": "code",
      "source": [
        "#@title Creates function to remove outliers \n",
        "\n",
        "remove_outliers<- function(df){\n",
        "  #make new dataset that will have outliers removed\n",
        "  clean_no_outliers<- df\n",
        "\n",
        "  # remove outliers from wdsp\n",
        "  outliers <- boxplot(clean_no_outliers$wdsp, plot=FALSE)$out\n",
        "  clean_no_outliers <- clean_no_outliers[-which(clean_no_outliers$wdsp %in% outliers),]\n",
        "\n",
        "  # remove outliers from temp\n",
        "  outliers <- boxplot(clean_no_outliers$temp, plot=FALSE)$out\n",
        "  clean_no_outliers <- clean_no_outliers[-which(clean_no_outliers$temp %in% outliers),]\n",
        "\n",
        "  # remove outliers from visib\n",
        "  outliers <- boxplot(clean_no_outliers$visib, plot=FALSE)$out\n",
        "  clean_no_outliers <- clean_no_outliers[-which(clean_no_outliers$visib %in% outliers),]\n",
        "\n",
        "  # remove outliers from prcp\n",
        "  outliers <- boxplot(clean_no_outliers$prcp, plot=FALSE)$out\n",
        "  clean_no_outliers <- clean_no_outliers[-which(clean_no_outliers$prcp %in% outliers),]\n",
        "\n",
        "  return(clean_no_outliers)\n",
        "}\n"
      ],
      "metadata": {
        "id": "kV29_DPCAlmq"
      },
      "execution_count": null,
      "outputs": []
    },
    {
      "cell_type": "code",
      "source": [
        "# runs the function to remove outliers\n",
        "ohc_no_outliers<- remove_outliers(ohc_clean_data)"
      ],
      "metadata": {
        "id": "cotY_T8aAQNO"
      },
      "execution_count": null,
      "outputs": []
    },
    {
      "cell_type": "code",
      "source": [
        "# Save the data files to use later\n",
        "write.csv(ohc_clean_data, file = \"ohc_clean.csv\")\n",
        "write.csv(ohc_no_outliers, file = \"ohc_no_outliers.csv\")\n",
        "write.csv(ohc_latest, file = \"ohc_latest.csv\")"
      ],
      "metadata": {
        "id": "NK7mSUqRmDec"
      },
      "execution_count": null,
      "outputs": []
    }
  ]
}